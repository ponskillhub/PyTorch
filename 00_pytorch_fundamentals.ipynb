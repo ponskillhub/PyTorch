{
  "nbformat": 4,
  "nbformat_minor": 0,
  "metadata": {
    "colab": {
      "provenance": [],
      "authorship_tag": "ABX9TyNtKzjOIxQOjwi5UpPM0TkX",
      "include_colab_link": true
    },
    "kernelspec": {
      "name": "python3",
      "display_name": "Python 3"
    },
    "language_info": {
      "name": "python"
    }
  },
  "cells": [
    {
      "cell_type": "markdown",
      "metadata": {
        "id": "view-in-github",
        "colab_type": "text"
      },
      "source": [
        "<a href=\"https://colab.research.google.com/github/ponskillhub/PyTorch/blob/main/00_pytorch_fundamentals.ipynb\" target=\"_parent\"><img src=\"https://colab.research.google.com/assets/colab-badge.svg\" alt=\"Open In Colab\"/></a>"
      ]
    },
    {
      "cell_type": "code",
      "execution_count": 1,
      "metadata": {
        "colab": {
          "base_uri": "https://localhost:8080/"
        },
        "id": "Ot8AzAJNRvuI",
        "outputId": "9cdc9cd0-5e1e-4e20-b9f8-3bef002acb7d"
      },
      "outputs": [
        {
          "output_type": "stream",
          "name": "stdout",
          "text": [
            "2.1.0+cu121\n"
          ]
        }
      ],
      "source": [
        "import torch\n",
        "print(torch.__version__)"
      ]
    },
    {
      "cell_type": "markdown",
      "source": [
        "## Introduction to Tensors\n",
        "\n",
        "### scalars"
      ],
      "metadata": {
        "id": "E9gBoDyaCqh5"
      }
    },
    {
      "cell_type": "code",
      "source": [
        "scalar = torch.tensor(7)\n",
        "scalar"
      ],
      "metadata": {
        "colab": {
          "base_uri": "https://localhost:8080/"
        },
        "id": "dvt9tPiXCvmX",
        "outputId": "2a079833-a086-466b-d904-9634d1dd5698"
      },
      "execution_count": 2,
      "outputs": [
        {
          "output_type": "execute_result",
          "data": {
            "text/plain": [
              "tensor(7)"
            ]
          },
          "metadata": {},
          "execution_count": 2
        }
      ]
    },
    {
      "cell_type": "code",
      "source": [
        "scalar.ndim"
      ],
      "metadata": {
        "colab": {
          "base_uri": "https://localhost:8080/"
        },
        "id": "40kzgA6UD9iA",
        "outputId": "e779e5dc-ca99-419e-ec90-40f62d70455f"
      },
      "execution_count": 3,
      "outputs": [
        {
          "output_type": "execute_result",
          "data": {
            "text/plain": [
              "0"
            ]
          },
          "metadata": {},
          "execution_count": 3
        }
      ]
    },
    {
      "cell_type": "markdown",
      "source": [
        "### vectors"
      ],
      "metadata": {
        "id": "MHek4hFlEaRY"
      }
    },
    {
      "cell_type": "code",
      "source": [
        "vector = torch.tensor([7,9])\n",
        "vector"
      ],
      "metadata": {
        "colab": {
          "base_uri": "https://localhost:8080/"
        },
        "id": "6S5deSldECLU",
        "outputId": "d2e8ac24-e2ef-4785-ab99-56fbb1322d42"
      },
      "execution_count": 4,
      "outputs": [
        {
          "output_type": "execute_result",
          "data": {
            "text/plain": [
              "tensor([7, 9])"
            ]
          },
          "metadata": {},
          "execution_count": 4
        }
      ]
    },
    {
      "cell_type": "code",
      "source": [
        "vector.ndim"
      ],
      "metadata": {
        "colab": {
          "base_uri": "https://localhost:8080/"
        },
        "id": "v6DrEZ_iFe0o",
        "outputId": "b726abd3-716c-4ed3-962b-87ecc4b40d4b"
      },
      "execution_count": 5,
      "outputs": [
        {
          "output_type": "execute_result",
          "data": {
            "text/plain": [
              "1"
            ]
          },
          "metadata": {},
          "execution_count": 5
        }
      ]
    },
    {
      "cell_type": "code",
      "source": [
        "vector.shape"
      ],
      "metadata": {
        "colab": {
          "base_uri": "https://localhost:8080/"
        },
        "id": "US7xDI1UFiVF",
        "outputId": "98eb0416-8a61-44dd-9bc8-3c0c95082b37"
      },
      "execution_count": 6,
      "outputs": [
        {
          "output_type": "execute_result",
          "data": {
            "text/plain": [
              "torch.Size([2])"
            ]
          },
          "metadata": {},
          "execution_count": 6
        }
      ]
    },
    {
      "cell_type": "markdown",
      "source": [
        "### matrix"
      ],
      "metadata": {
        "id": "m0_Q4p_uFlxV"
      }
    },
    {
      "cell_type": "code",
      "source": [
        "MATRIX = torch.tensor([[7,8],\n",
        "                       [9,10]\n",
        "\n",
        "])"
      ],
      "metadata": {
        "id": "Ocgai6WtFni9"
      },
      "execution_count": 8,
      "outputs": []
    },
    {
      "cell_type": "code",
      "source": [
        "MATRIX"
      ],
      "metadata": {
        "colab": {
          "base_uri": "https://localhost:8080/"
        },
        "id": "_QlWoj2WF3dg",
        "outputId": "0c588688-db92-4c76-e6d0-48173647f61c"
      },
      "execution_count": 9,
      "outputs": [
        {
          "output_type": "execute_result",
          "data": {
            "text/plain": [
              "tensor([[ 7,  8],\n",
              "        [ 9, 10]])"
            ]
          },
          "metadata": {},
          "execution_count": 9
        }
      ]
    },
    {
      "cell_type": "code",
      "source": [
        "MATRIX.ndim"
      ],
      "metadata": {
        "colab": {
          "base_uri": "https://localhost:8080/"
        },
        "id": "savQp6NlF7li",
        "outputId": "7794f3a8-a335-4864-966d-66233cbde98b"
      },
      "execution_count": 10,
      "outputs": [
        {
          "output_type": "execute_result",
          "data": {
            "text/plain": [
              "2"
            ]
          },
          "metadata": {},
          "execution_count": 10
        }
      ]
    },
    {
      "cell_type": "code",
      "source": [
        "MATRIX.shape"
      ],
      "metadata": {
        "colab": {
          "base_uri": "https://localhost:8080/"
        },
        "id": "IHMyRko1F-I5",
        "outputId": "6a078564-8e2b-49e1-f71d-8672e38db8ae"
      },
      "execution_count": 11,
      "outputs": [
        {
          "output_type": "execute_result",
          "data": {
            "text/plain": [
              "torch.Size([2, 2])"
            ]
          },
          "metadata": {},
          "execution_count": 11
        }
      ]
    },
    {
      "cell_type": "code",
      "source": [
        "MATRIX[1]"
      ],
      "metadata": {
        "colab": {
          "base_uri": "https://localhost:8080/"
        },
        "id": "lGmqJANuYZaR",
        "outputId": "1b4d50ca-d427-4139-a4ad-923be0691faa"
      },
      "execution_count": 12,
      "outputs": [
        {
          "output_type": "execute_result",
          "data": {
            "text/plain": [
              "tensor([ 9, 10])"
            ]
          },
          "metadata": {},
          "execution_count": 12
        }
      ]
    },
    {
      "cell_type": "code",
      "source": [
        "TENSOR = torch.tensor(\n",
        "    [[[1,2,3],\n",
        "      [4,5,6],\n",
        "      [7,8,9]]]\n",
        "\n",
        ")\n",
        "TENSOR"
      ],
      "metadata": {
        "colab": {
          "base_uri": "https://localhost:8080/"
        },
        "id": "OxtBlSwwbDT0",
        "outputId": "d459e54a-c504-4c24-d859-0b7b6b15246b"
      },
      "execution_count": 13,
      "outputs": [
        {
          "output_type": "execute_result",
          "data": {
            "text/plain": [
              "tensor([[[1, 2, 3],\n",
              "         [4, 5, 6],\n",
              "         [7, 8, 9]]])"
            ]
          },
          "metadata": {},
          "execution_count": 13
        }
      ]
    },
    {
      "cell_type": "code",
      "source": [
        "TENSOR.ndim"
      ],
      "metadata": {
        "colab": {
          "base_uri": "https://localhost:8080/"
        },
        "id": "_T-ll5m3bh4U",
        "outputId": "a60558a5-af46-4794-ebd2-f40a746ca311"
      },
      "execution_count": 14,
      "outputs": [
        {
          "output_type": "execute_result",
          "data": {
            "text/plain": [
              "3"
            ]
          },
          "metadata": {},
          "execution_count": 14
        }
      ]
    },
    {
      "cell_type": "code",
      "source": [
        "TENSOR.shape"
      ],
      "metadata": {
        "colab": {
          "base_uri": "https://localhost:8080/"
        },
        "id": "KpUSTEOqb_Dl",
        "outputId": "9fe4395b-77fe-49ec-8c94-16390220becd"
      },
      "execution_count": 15,
      "outputs": [
        {
          "output_type": "execute_result",
          "data": {
            "text/plain": [
              "torch.Size([1, 3, 3])"
            ]
          },
          "metadata": {},
          "execution_count": 15
        }
      ]
    },
    {
      "cell_type": "markdown",
      "source": [
        "# Random values tensors"
      ],
      "metadata": {
        "id": "lRkw0owCcYVf"
      }
    },
    {
      "cell_type": "code",
      "source": [
        "random_tensor = torch.rand(1,10,10)\n",
        "random_tensor"
      ],
      "metadata": {
        "colab": {
          "base_uri": "https://localhost:8080/"
        },
        "id": "giGgVi6RcSda",
        "outputId": "1760820d-7105-45f5-cdc1-645d4847d404"
      },
      "execution_count": 16,
      "outputs": [
        {
          "output_type": "execute_result",
          "data": {
            "text/plain": [
              "tensor([[[0.8589, 0.4339, 0.6220, 0.6108, 0.2584, 0.4613, 0.4040, 0.1373,\n",
              "          0.1809, 0.8468],\n",
              "         [0.4253, 0.4388, 0.6367, 0.3649, 0.0581, 0.8903, 0.1823, 0.6208,\n",
              "          0.8653, 0.2032],\n",
              "         [0.5345, 0.0141, 0.7804, 0.2128, 0.5687, 0.9566, 0.4467, 0.8119,\n",
              "          0.4827, 0.2888],\n",
              "         [0.9497, 0.4420, 0.1823, 0.1152, 0.5024, 0.1174, 0.0252, 0.6088,\n",
              "          0.8970, 0.7972],\n",
              "         [0.7450, 0.6049, 0.0229, 0.1736, 0.5063, 0.0411, 0.5736, 0.8871,\n",
              "          0.0856, 0.6913],\n",
              "         [0.2001, 0.1243, 0.4677, 0.1102, 0.1883, 0.3615, 0.0807, 0.3402,\n",
              "          0.3978, 0.4292],\n",
              "         [0.3578, 0.4412, 0.3182, 0.9794, 0.0419, 0.9996, 0.1898, 0.8454,\n",
              "          0.6221, 0.6609],\n",
              "         [0.7066, 0.4243, 0.0044, 0.9844, 0.0639, 0.5897, 0.3893, 0.0560,\n",
              "          0.4599, 0.4622],\n",
              "         [0.1486, 0.3337, 0.5038, 0.8042, 0.3999, 0.1361, 0.0804, 0.9737,\n",
              "          0.1313, 0.7181],\n",
              "         [0.5124, 0.9770, 0.0620, 0.6865, 0.6391, 0.9716, 0.2119, 0.3501,\n",
              "          0.3617, 0.6810]]])"
            ]
          },
          "metadata": {},
          "execution_count": 16
        }
      ]
    },
    {
      "cell_type": "markdown",
      "source": [
        "# create a rendam tensor with similar shape to an image"
      ],
      "metadata": {
        "id": "TO5PGlzyejM-"
      }
    },
    {
      "cell_type": "code",
      "source": [
        "random_image_tensor = torch.rand(3,224,224)\n",
        "random_image_tensor"
      ],
      "metadata": {
        "colab": {
          "base_uri": "https://localhost:8080/"
        },
        "id": "yanUW-YCeoWZ",
        "outputId": "5a11e35c-aa4c-4b64-87e0-4617302ec3d8"
      },
      "execution_count": 20,
      "outputs": [
        {
          "output_type": "execute_result",
          "data": {
            "text/plain": [
              "tensor([[[0.4651, 0.5584, 0.5216,  ..., 0.7827, 0.2382, 0.7634],\n",
              "         [0.7472, 0.7320, 0.9543,  ..., 0.8469, 0.4156, 0.9371],\n",
              "         [0.7936, 0.9566, 0.0272,  ..., 0.2574, 0.4470, 0.8538],\n",
              "         ...,\n",
              "         [0.4438, 0.3150, 0.4217,  ..., 0.5240, 0.2449, 0.6786],\n",
              "         [0.9546, 0.3935, 0.5558,  ..., 0.7401, 0.3450, 0.8779],\n",
              "         [0.5016, 0.4457, 0.3795,  ..., 0.8316, 0.7825, 0.2937]],\n",
              "\n",
              "        [[0.5355, 0.6693, 0.7708,  ..., 0.7737, 0.4989, 0.1885],\n",
              "         [0.7433, 0.1527, 0.5114,  ..., 0.6748, 0.5172, 0.4426],\n",
              "         [0.1612, 0.1610, 0.8920,  ..., 0.3188, 0.8312, 0.3389],\n",
              "         ...,\n",
              "         [0.9155, 0.8181, 0.2369,  ..., 0.5416, 0.6656, 0.3033],\n",
              "         [0.2439, 0.1744, 0.3661,  ..., 0.4348, 0.1374, 0.8447],\n",
              "         [0.8222, 0.9648, 0.9914,  ..., 0.2403, 0.7739, 0.0017]],\n",
              "\n",
              "        [[0.2172, 0.0142, 0.8343,  ..., 0.4499, 0.0064, 0.2020],\n",
              "         [0.4686, 0.6516, 0.4182,  ..., 0.1629, 0.3792, 0.9776],\n",
              "         [0.6802, 0.1747, 0.7307,  ..., 0.2832, 0.6395, 0.2269],\n",
              "         ...,\n",
              "         [0.9742, 0.0135, 0.2203,  ..., 0.7379, 0.8562, 0.0578],\n",
              "         [0.7656, 0.6157, 0.4797,  ..., 0.0448, 0.0917, 0.6077],\n",
              "         [0.3729, 0.4320, 0.7929,  ..., 0.0250, 0.0455, 0.4815]]])"
            ]
          },
          "metadata": {},
          "execution_count": 20
        }
      ]
    },
    {
      "cell_type": "markdown",
      "source": [
        "# tensors of zeros"
      ],
      "metadata": {
        "id": "c2UFeoTNhHoI"
      }
    },
    {
      "cell_type": "code",
      "source": [
        "zero_tensor = torch.zeros(size=(2,3))\n",
        "zero_tensor"
      ],
      "metadata": {
        "colab": {
          "base_uri": "https://localhost:8080/"
        },
        "id": "RF5j3OPJhKBx",
        "outputId": "72275033-ad2d-415f-89dc-04f2c1bf2ad0"
      },
      "execution_count": 21,
      "outputs": [
        {
          "output_type": "execute_result",
          "data": {
            "text/plain": [
              "tensor([[0., 0., 0.],\n",
              "        [0., 0., 0.]])"
            ]
          },
          "metadata": {},
          "execution_count": 21
        }
      ]
    },
    {
      "cell_type": "markdown",
      "source": [
        "## tensors of ones"
      ],
      "metadata": {
        "id": "9M2MWgKViWuC"
      }
    },
    {
      "cell_type": "code",
      "source": [
        "ones_tensor = torch.ones(size=(2,3))\n",
        "ones_tensor"
      ],
      "metadata": {
        "colab": {
          "base_uri": "https://localhost:8080/"
        },
        "id": "6JsslExtiZ5O",
        "outputId": "c12d6226-b756-415b-ad3a-b8bc1094a947"
      },
      "execution_count": 22,
      "outputs": [
        {
          "output_type": "execute_result",
          "data": {
            "text/plain": [
              "tensor([[1., 1., 1.],\n",
              "        [1., 1., 1.]])"
            ]
          },
          "metadata": {},
          "execution_count": 22
        }
      ]
    },
    {
      "cell_type": "code",
      "source": [
        "ones_tensor.dtype"
      ],
      "metadata": {
        "colab": {
          "base_uri": "https://localhost:8080/"
        },
        "id": "dHGaJvTkivMD",
        "outputId": "bf0feca9-4ba0-4cef-9090-1b04c25c79c7"
      },
      "execution_count": 23,
      "outputs": [
        {
          "output_type": "execute_result",
          "data": {
            "text/plain": [
              "torch.float32"
            ]
          },
          "metadata": {},
          "execution_count": 23
        }
      ]
    },
    {
      "cell_type": "markdown",
      "source": [
        "# range"
      ],
      "metadata": {
        "id": "kQvt2iQEjSQG"
      }
    },
    {
      "cell_type": "code",
      "source": [
        "range = torch.arange(0,10)\n",
        "range"
      ],
      "metadata": {
        "colab": {
          "base_uri": "https://localhost:8080/"
        },
        "id": "vU_sbVYGjU9-",
        "outputId": "2d419f9a-17b5-44d4-9aab-6a15334b3516"
      },
      "execution_count": 24,
      "outputs": [
        {
          "output_type": "execute_result",
          "data": {
            "text/plain": [
              "tensor([0, 1, 2, 3, 4, 5, 6, 7, 8, 9])"
            ]
          },
          "metadata": {},
          "execution_count": 24
        }
      ]
    },
    {
      "cell_type": "code",
      "source": [
        "range = torch.arange(start=1,end=11,step=1)\n",
        "range"
      ],
      "metadata": {
        "colab": {
          "base_uri": "https://localhost:8080/"
        },
        "id": "ed3hchZ-j09U",
        "outputId": "8f61b209-76e0-4a0c-9a5c-2039bab62c24"
      },
      "execution_count": 25,
      "outputs": [
        {
          "output_type": "execute_result",
          "data": {
            "text/plain": [
              "tensor([ 1,  2,  3,  4,  5,  6,  7,  8,  9, 10])"
            ]
          },
          "metadata": {},
          "execution_count": 25
        }
      ]
    },
    {
      "cell_type": "markdown",
      "source": [
        "## tensors like"
      ],
      "metadata": {
        "id": "4GhzDGwWkb0w"
      }
    },
    {
      "cell_type": "code",
      "source": [
        "ten_like = torch.zeros_like(input=ones_tensor)\n",
        "ten_like"
      ],
      "metadata": {
        "colab": {
          "base_uri": "https://localhost:8080/"
        },
        "id": "v2VXhNwQk553",
        "outputId": "b388129d-0cd2-4a98-920f-6cc59f30b2e7"
      },
      "execution_count": 28,
      "outputs": [
        {
          "output_type": "execute_result",
          "data": {
            "text/plain": [
              "tensor([[0., 0., 0.],\n",
              "        [0., 0., 0.]])"
            ]
          },
          "metadata": {},
          "execution_count": 28
        }
      ]
    },
    {
      "cell_type": "markdown",
      "source": [
        "## tensor datatype"
      ],
      "metadata": {
        "id": "nTFMxYjPm3BO"
      }
    },
    {
      "cell_type": "code",
      "source": [
        "float_32_tensor = torch.tensor([3.0,6.0,9.0],\n",
        "                               dtype=None,\n",
        "                               device=None,\n",
        "                               requires_grad=False\n",
        "                               )\n",
        "float_32_tensor.dtype"
      ],
      "metadata": {
        "colab": {
          "base_uri": "https://localhost:8080/"
        },
        "id": "t1BV89oQmz2E",
        "outputId": "3626d779-3b05-4082-c131-d36dcbdccc75"
      },
      "execution_count": 29,
      "outputs": [
        {
          "output_type": "execute_result",
          "data": {
            "text/plain": [
              "torch.float32"
            ]
          },
          "metadata": {},
          "execution_count": 29
        }
      ]
    },
    {
      "cell_type": "code",
      "source": [
        "float_32_tensor.device"
      ],
      "metadata": {
        "colab": {
          "base_uri": "https://localhost:8080/"
        },
        "id": "ERrQH4vRnr73",
        "outputId": "c609d08f-e5b5-4085-9070-dbe1a9d118e8"
      },
      "execution_count": 30,
      "outputs": [
        {
          "output_type": "execute_result",
          "data": {
            "text/plain": [
              "device(type='cpu')"
            ]
          },
          "metadata": {},
          "execution_count": 30
        }
      ]
    },
    {
      "cell_type": "code",
      "source": [
        "float_32_tensor.requires_grad"
      ],
      "metadata": {
        "colab": {
          "base_uri": "https://localhost:8080/"
        },
        "id": "sqtTD4rjnv0Q",
        "outputId": "25a22776-30d0-4cad-81af-5ebb51c05cb0"
      },
      "execution_count": 31,
      "outputs": [
        {
          "output_type": "execute_result",
          "data": {
            "text/plain": [
              "False"
            ]
          },
          "metadata": {},
          "execution_count": 31
        }
      ]
    },
    {
      "cell_type": "markdown",
      "source": [
        "## change the data type of tensor"
      ],
      "metadata": {
        "id": "kpE5cZturTh2"
      }
    },
    {
      "cell_type": "code",
      "source": [
        "float_16_tensor = float_32_tensor.type(torch.float16)\n",
        "float_16_tensor"
      ],
      "metadata": {
        "colab": {
          "base_uri": "https://localhost:8080/"
        },
        "id": "Y0GxOBFZrGQn",
        "outputId": "4649b4ca-a11c-409c-e8c1-ff8434896216"
      },
      "execution_count": 32,
      "outputs": [
        {
          "output_type": "execute_result",
          "data": {
            "text/plain": [
              "tensor([3., 6., 9.], dtype=torch.float16)"
            ]
          },
          "metadata": {},
          "execution_count": 32
        }
      ]
    },
    {
      "cell_type": "markdown",
      "source": [
        "## Tensor Operations"
      ],
      "metadata": {
        "id": "SpoDmF8OrXjs"
      }
    },
    {
      "cell_type": "code",
      "source": [
        "tensor = torch.tensor([10,11,12])\n",
        "tensor += 1\n",
        "tensor"
      ],
      "metadata": {
        "colab": {
          "base_uri": "https://localhost:8080/"
        },
        "id": "RRPbTv8ft3km",
        "outputId": "a14572c6-7832-419e-ec7b-3ef6d278cd55"
      },
      "execution_count": 34,
      "outputs": [
        {
          "output_type": "execute_result",
          "data": {
            "text/plain": [
              "tensor([11, 12, 13])"
            ]
          },
          "metadata": {},
          "execution_count": 34
        }
      ]
    },
    {
      "cell_type": "code",
      "source": [
        "tensor * 10"
      ],
      "metadata": {
        "colab": {
          "base_uri": "https://localhost:8080/"
        },
        "id": "VDlwiHTuupVO",
        "outputId": "0112b1ff-df21-4adf-e9f4-609654eca6f9"
      },
      "execution_count": 35,
      "outputs": [
        {
          "output_type": "execute_result",
          "data": {
            "text/plain": [
              "tensor([110, 120, 130])"
            ]
          },
          "metadata": {},
          "execution_count": 35
        }
      ]
    },
    {
      "cell_type": "code",
      "source": [
        "tensor - 1"
      ],
      "metadata": {
        "colab": {
          "base_uri": "https://localhost:8080/"
        },
        "id": "5FhCeczSvGf1",
        "outputId": "f56f6898-c2da-4d70-917e-1b69f92a8289"
      },
      "execution_count": 36,
      "outputs": [
        {
          "output_type": "execute_result",
          "data": {
            "text/plain": [
              "tensor([10, 11, 12])"
            ]
          },
          "metadata": {},
          "execution_count": 36
        }
      ]
    },
    {
      "cell_type": "code",
      "source": [
        "torch.mul(tensor,10)"
      ],
      "metadata": {
        "colab": {
          "base_uri": "https://localhost:8080/"
        },
        "id": "VLLLOeiWvUYz",
        "outputId": "ffdf087e-a1ca-4eb1-b102-b23efdd3728f"
      },
      "execution_count": 37,
      "outputs": [
        {
          "output_type": "execute_result",
          "data": {
            "text/plain": [
              "tensor([110, 120, 130])"
            ]
          },
          "metadata": {},
          "execution_count": 37
        }
      ]
    },
    {
      "cell_type": "code",
      "source": [
        "torch.add(tensor, 5)"
      ],
      "metadata": {
        "colab": {
          "base_uri": "https://localhost:8080/"
        },
        "id": "Mv6j4N84vfPT",
        "outputId": "a2f889fa-edb3-44fb-c804-f9128d3d7a01"
      },
      "execution_count": 38,
      "outputs": [
        {
          "output_type": "execute_result",
          "data": {
            "text/plain": [
              "tensor([16, 17, 18])"
            ]
          },
          "metadata": {},
          "execution_count": 38
        }
      ]
    }
  ]
}